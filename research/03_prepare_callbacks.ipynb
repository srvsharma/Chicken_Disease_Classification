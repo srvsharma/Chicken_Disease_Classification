{
 "cells": [
  {
   "cell_type": "code",
   "execution_count": 1,
   "metadata": {},
   "outputs": [],
   "source": [
    "import os"
   ]
  },
  {
   "cell_type": "code",
   "execution_count": 2,
   "metadata": {},
   "outputs": [
    {
     "data": {
      "text/plain": [
       "'/Users/gauravsharma/Desktop/chicken_disease_classification/Chicken_Disease_Classification/research'"
      ]
     },
     "execution_count": 2,
     "metadata": {},
     "output_type": "execute_result"
    }
   ],
   "source": [
    "%pwd"
   ]
  },
  {
   "cell_type": "code",
   "execution_count": 3,
   "metadata": {},
   "outputs": [],
   "source": [
    "os.chdir(\"../\")"
   ]
  },
  {
   "cell_type": "code",
   "execution_count": 4,
   "metadata": {},
   "outputs": [
    {
     "data": {
      "text/plain": [
       "'/Users/gauravsharma/Desktop/chicken_disease_classification/Chicken_Disease_Classification'"
      ]
     },
     "execution_count": 4,
     "metadata": {},
     "output_type": "execute_result"
    }
   ],
   "source": [
    "%pwd"
   ]
  },
  {
   "cell_type": "code",
   "execution_count": 8,
   "metadata": {},
   "outputs": [],
   "source": [
    "from dataclasses import dataclass\n",
    "from pathlib import Path\n",
    "\n",
    "@dataclass(frozen=True)\n",
    "class PrepareCallbacksConfig:\n",
    "    root_dir: Path\n",
    "    tensorboard_root_log_dir: Path\n",
    "    checkpoint_model_filepath: Path\n"
   ]
  },
  {
   "cell_type": "code",
   "execution_count": 9,
   "metadata": {},
   "outputs": [],
   "source": [
    "from src.ChickenDiseaseClassifier.constants import *\n",
    "from src.ChickenDiseaseClassifier.utils.common import  read_yaml, create_directories"
   ]
  },
  {
   "cell_type": "code",
   "execution_count": 10,
   "metadata": {},
   "outputs": [],
   "source": [
    "class ConfigurationManager:\n",
    "    def __init__(\n",
    "        self, \n",
    "        config_filepath = CONFIG_FILE_PATH,\n",
    "        params_filepath = PARAMS_FILE_PATH):\n",
    "        self.config = read_yaml(config_filepath)\n",
    "        self.params = read_yaml(params_filepath)\n",
    "        create_directories([self.config.artifacts_root])\n",
    "\n",
    "\n",
    "    \n",
    "    def get_prepare_callback_config(self) -> PrepareCallbacksConfig:\n",
    "        config = self.config.prepare_callbacks\n",
    "        model_ckpt_dir = os.path.dirname(config.checkpoint_model_filepath)\n",
    "        create_directories([\n",
    "            Path(model_ckpt_dir),\n",
    "            Path(config.tensorboard_root_log_dir)\n",
    "        ])\n",
    "\n",
    "        prepare_callback_config = PrepareCallbacksConfig(\n",
    "            root_dir=Path(config.root_dir),\n",
    "            tensorboard_root_log_dir=Path(config.tensorboard_root_log_dir),\n",
    "            checkpoint_model_filepath=Path(config.checkpoint_model_filepath)\n",
    "        )\n",
    "\n",
    "        return prepare_callback_config"
   ]
  },
  {
   "cell_type": "code",
   "execution_count": 11,
   "metadata": {},
   "outputs": [],
   "source": [
    "import os\n",
    "import urllib.request as request\n",
    "from zipfile import ZipFile\n",
    "import tensorflow as tf\n",
    "import time"
   ]
  },
  {
   "cell_type": "code",
   "execution_count": 18,
   "metadata": {},
   "outputs": [],
   "source": [
    "class PrepareCallback:\n",
    "    def __init__(self, config: PrepareCallbacksConfig):\n",
    "        self.config = config\n",
    "\n",
    "\n",
    "    \n",
    "    @property\n",
    "    def _create_tb_callbacks(self):\n",
    "        timestamp = time.strftime(\"%Y-%m-%d-%H-%M-%S\")\n",
    "        tb_running_log_dir = os.path.join(\n",
    "            self.config.tensorboard_root_log_dir,\n",
    "            f\"tb_logs_at_{timestamp}\",\n",
    "        )\n",
    "        return tf.keras.callbacks.TensorBoard(log_dir=tb_running_log_dir)\n",
    "    \n",
    "\n",
    "    @property\n",
    "    def _create_ckpt_callbacks(self):\n",
    "      \n",
    "      return tf.keras.callbacks.ModelCheckpoint(\n",
    "          \n",
    "           filepath=str(self.config.checkpoint_model_filepath.resolve()),\n",
    "           save_best_only=True\n",
    "    )\n",
    "\n",
    "\n",
    "\n",
    "    def get_tb_ckpt_callbacks(self):\n",
    "        \n",
    "        return [\n",
    "            self._create_tb_callbacks,\n",
    "            self._create_ckpt_callbacks\n",
    "        ]"
   ]
  },
  {
   "cell_type": "code",
   "execution_count": 19,
   "metadata": {},
   "outputs": [
    {
     "name": "stdout",
     "output_type": "stream",
     "text": [
      "[2024-03-22 15:26:25,394: INFO: common: yaml file: config/config.yaml loaded successfully]\n",
      "[2024-03-22 15:26:25,398: INFO: common: yaml file: params.yaml loaded successfully]\n",
      "[2024-03-22 15:26:25,399: INFO: common: created directory at: artifacts]\n",
      "[2024-03-22 15:26:25,400: INFO: common: created directory at: artifacts/prepare_callbacks/checkpoint_dir]\n",
      "[2024-03-22 15:26:25,401: INFO: common: created directory at: artifacts/prepare_callbacks/tensorboard_log_dir]\n"
     ]
    },
    {
     "ename": "ValueError",
     "evalue": "The filepath provided must end in `.keras` (Keras model format). Received: filepath=/Users/gauravsharma/Desktop/chicken_disease_classification/Chicken_Disease_Classification/artifacts/prepare_callbacks/checkpoint_dir/model.h5",
     "output_type": "error",
     "traceback": [
      "\u001b[0;31m---------------------------------------------------------------------------\u001b[0m",
      "\u001b[0;31mValueError\u001b[0m                                Traceback (most recent call last)",
      "\u001b[1;32m/Users/gauravsharma/Desktop/chicken_disease_classification/Chicken_Disease_Classification/research/03_prepare_callbacks.ipynb Cell 10\u001b[0m line \u001b[0;36m8\n\u001b[1;32m      <a href='vscode-notebook-cell:/Users/gauravsharma/Desktop/chicken_disease_classification/Chicken_Disease_Classification/research/03_prepare_callbacks.ipynb#X12sZmlsZQ%3D%3D?line=4'>5</a>\u001b[0m     callback_list \u001b[39m=\u001b[39m prepare_callbacks\u001b[39m.\u001b[39mget_tb_ckpt_callbacks()\n\u001b[1;32m      <a href='vscode-notebook-cell:/Users/gauravsharma/Desktop/chicken_disease_classification/Chicken_Disease_Classification/research/03_prepare_callbacks.ipynb#X12sZmlsZQ%3D%3D?line=6'>7</a>\u001b[0m \u001b[39mexcept\u001b[39;00m \u001b[39mException\u001b[39;00m \u001b[39mas\u001b[39;00m e:\n\u001b[0;32m----> <a href='vscode-notebook-cell:/Users/gauravsharma/Desktop/chicken_disease_classification/Chicken_Disease_Classification/research/03_prepare_callbacks.ipynb#X12sZmlsZQ%3D%3D?line=7'>8</a>\u001b[0m     \u001b[39mraise\u001b[39;00m e\n",
      "\u001b[1;32m/Users/gauravsharma/Desktop/chicken_disease_classification/Chicken_Disease_Classification/research/03_prepare_callbacks.ipynb Cell 10\u001b[0m line \u001b[0;36m5\n\u001b[1;32m      <a href='vscode-notebook-cell:/Users/gauravsharma/Desktop/chicken_disease_classification/Chicken_Disease_Classification/research/03_prepare_callbacks.ipynb#X12sZmlsZQ%3D%3D?line=2'>3</a>\u001b[0m     prepare_callbacks_config \u001b[39m=\u001b[39m config\u001b[39m.\u001b[39mget_prepare_callback_config()\n\u001b[1;32m      <a href='vscode-notebook-cell:/Users/gauravsharma/Desktop/chicken_disease_classification/Chicken_Disease_Classification/research/03_prepare_callbacks.ipynb#X12sZmlsZQ%3D%3D?line=3'>4</a>\u001b[0m     prepare_callbacks \u001b[39m=\u001b[39m PrepareCallback(config\u001b[39m=\u001b[39mprepare_callbacks_config)\n\u001b[0;32m----> <a href='vscode-notebook-cell:/Users/gauravsharma/Desktop/chicken_disease_classification/Chicken_Disease_Classification/research/03_prepare_callbacks.ipynb#X12sZmlsZQ%3D%3D?line=4'>5</a>\u001b[0m     callback_list \u001b[39m=\u001b[39m prepare_callbacks\u001b[39m.\u001b[39;49mget_tb_ckpt_callbacks()\n\u001b[1;32m      <a href='vscode-notebook-cell:/Users/gauravsharma/Desktop/chicken_disease_classification/Chicken_Disease_Classification/research/03_prepare_callbacks.ipynb#X12sZmlsZQ%3D%3D?line=6'>7</a>\u001b[0m \u001b[39mexcept\u001b[39;00m \u001b[39mException\u001b[39;00m \u001b[39mas\u001b[39;00m e:\n\u001b[1;32m      <a href='vscode-notebook-cell:/Users/gauravsharma/Desktop/chicken_disease_classification/Chicken_Disease_Classification/research/03_prepare_callbacks.ipynb#X12sZmlsZQ%3D%3D?line=7'>8</a>\u001b[0m     \u001b[39mraise\u001b[39;00m e\n",
      "\u001b[1;32m/Users/gauravsharma/Desktop/chicken_disease_classification/Chicken_Disease_Classification/research/03_prepare_callbacks.ipynb Cell 10\u001b[0m line \u001b[0;36m2\n\u001b[1;32m     <a href='vscode-notebook-cell:/Users/gauravsharma/Desktop/chicken_disease_classification/Chicken_Disease_Classification/research/03_prepare_callbacks.ipynb#X12sZmlsZQ%3D%3D?line=24'>25</a>\u001b[0m \u001b[39mdef\u001b[39;00m \u001b[39mget_tb_ckpt_callbacks\u001b[39m(\u001b[39mself\u001b[39m):\n\u001b[1;32m     <a href='vscode-notebook-cell:/Users/gauravsharma/Desktop/chicken_disease_classification/Chicken_Disease_Classification/research/03_prepare_callbacks.ipynb#X12sZmlsZQ%3D%3D?line=25'>26</a>\u001b[0m     \u001b[39mreturn\u001b[39;00m [\n\u001b[1;32m     <a href='vscode-notebook-cell:/Users/gauravsharma/Desktop/chicken_disease_classification/Chicken_Disease_Classification/research/03_prepare_callbacks.ipynb#X12sZmlsZQ%3D%3D?line=26'>27</a>\u001b[0m         \u001b[39mself\u001b[39m\u001b[39m.\u001b[39m_create_tb_callbacks,\n\u001b[0;32m---> <a href='vscode-notebook-cell:/Users/gauravsharma/Desktop/chicken_disease_classification/Chicken_Disease_Classification/research/03_prepare_callbacks.ipynb#X12sZmlsZQ%3D%3D?line=27'>28</a>\u001b[0m         \u001b[39mself\u001b[39;49m\u001b[39m.\u001b[39;49m_create_ckpt_callbacks\n\u001b[1;32m     <a href='vscode-notebook-cell:/Users/gauravsharma/Desktop/chicken_disease_classification/Chicken_Disease_Classification/research/03_prepare_callbacks.ipynb#X12sZmlsZQ%3D%3D?line=28'>29</a>\u001b[0m     ]\n",
      "\u001b[1;32m/Users/gauravsharma/Desktop/chicken_disease_classification/Chicken_Disease_Classification/research/03_prepare_callbacks.ipynb Cell 10\u001b[0m line \u001b[0;36m1\n\u001b[1;32m     <a href='vscode-notebook-cell:/Users/gauravsharma/Desktop/chicken_disease_classification/Chicken_Disease_Classification/research/03_prepare_callbacks.ipynb#X12sZmlsZQ%3D%3D?line=16'>17</a>\u001b[0m \u001b[39m@property\u001b[39m\n\u001b[1;32m     <a href='vscode-notebook-cell:/Users/gauravsharma/Desktop/chicken_disease_classification/Chicken_Disease_Classification/research/03_prepare_callbacks.ipynb#X12sZmlsZQ%3D%3D?line=17'>18</a>\u001b[0m \u001b[39mdef\u001b[39;00m \u001b[39m_create_ckpt_callbacks\u001b[39m(\u001b[39mself\u001b[39m):\n\u001b[0;32m---> <a href='vscode-notebook-cell:/Users/gauravsharma/Desktop/chicken_disease_classification/Chicken_Disease_Classification/research/03_prepare_callbacks.ipynb#X12sZmlsZQ%3D%3D?line=18'>19</a>\u001b[0m     \u001b[39mreturn\u001b[39;00m tf\u001b[39m.\u001b[39;49mkeras\u001b[39m.\u001b[39;49mcallbacks\u001b[39m.\u001b[39;49mModelCheckpoint(\n\u001b[1;32m     <a href='vscode-notebook-cell:/Users/gauravsharma/Desktop/chicken_disease_classification/Chicken_Disease_Classification/research/03_prepare_callbacks.ipynb#X12sZmlsZQ%3D%3D?line=19'>20</a>\u001b[0m         filepath\u001b[39m=\u001b[39;49m\u001b[39mstr\u001b[39;49m(\u001b[39mself\u001b[39;49m\u001b[39m.\u001b[39;49mconfig\u001b[39m.\u001b[39;49mcheckpoint_model_filepath\u001b[39m.\u001b[39;49mresolve()),\n\u001b[1;32m     <a href='vscode-notebook-cell:/Users/gauravsharma/Desktop/chicken_disease_classification/Chicken_Disease_Classification/research/03_prepare_callbacks.ipynb#X12sZmlsZQ%3D%3D?line=20'>21</a>\u001b[0m         save_best_only\u001b[39m=\u001b[39;49m\u001b[39mTrue\u001b[39;49;00m\n\u001b[1;32m     <a href='vscode-notebook-cell:/Users/gauravsharma/Desktop/chicken_disease_classification/Chicken_Disease_Classification/research/03_prepare_callbacks.ipynb#X12sZmlsZQ%3D%3D?line=21'>22</a>\u001b[0m     )\n",
      "File \u001b[0;32m~/miniconda3/envs/chickenmaster/lib/python3.12/site-packages/keras/src/callbacks/model_checkpoint.py:191\u001b[0m, in \u001b[0;36mModelCheckpoint.__init__\u001b[0;34m(self, filepath, monitor, verbose, save_best_only, save_weights_only, mode, save_freq, initial_value_threshold)\u001b[0m\n\u001b[1;32m    189\u001b[0m \u001b[39melse\u001b[39;00m:\n\u001b[1;32m    190\u001b[0m     \u001b[39mif\u001b[39;00m \u001b[39mnot\u001b[39;00m \u001b[39mself\u001b[39m\u001b[39m.\u001b[39mfilepath\u001b[39m.\u001b[39mendswith(\u001b[39m\"\u001b[39m\u001b[39m.keras\u001b[39m\u001b[39m\"\u001b[39m):\n\u001b[0;32m--> 191\u001b[0m         \u001b[39mraise\u001b[39;00m \u001b[39mValueError\u001b[39;00m(\n\u001b[1;32m    192\u001b[0m             \u001b[39m\"\u001b[39m\u001b[39mThe filepath provided must end in `.keras` \u001b[39m\u001b[39m\"\u001b[39m\n\u001b[1;32m    193\u001b[0m             \u001b[39m\"\u001b[39m\u001b[39m(Keras model format). Received: \u001b[39m\u001b[39m\"\u001b[39m\n\u001b[1;32m    194\u001b[0m             \u001b[39mf\u001b[39m\u001b[39m\"\u001b[39m\u001b[39mfilepath=\u001b[39m\u001b[39m{\u001b[39;00m\u001b[39mself\u001b[39m\u001b[39m.\u001b[39mfilepath\u001b[39m}\u001b[39;00m\u001b[39m\"\u001b[39m\n\u001b[1;32m    195\u001b[0m         )\n",
      "\u001b[0;31mValueError\u001b[0m: The filepath provided must end in `.keras` (Keras model format). Received: filepath=/Users/gauravsharma/Desktop/chicken_disease_classification/Chicken_Disease_Classification/artifacts/prepare_callbacks/checkpoint_dir/model.h5"
     ]
    }
   ],
   "source": [
    "try:\n",
    "    config = ConfigurationManager()\n",
    "    prepare_callbacks_config = config.get_prepare_callback_config()\n",
    "    prepare_callbacks = PrepareCallback(config=prepare_callbacks_config)\n",
    "    callback_list = prepare_callbacks.get_tb_ckpt_callbacks()\n",
    "    \n",
    "except Exception as e:\n",
    "    raise e"
   ]
  },
  {
   "cell_type": "code",
   "execution_count": null,
   "metadata": {},
   "outputs": [],
   "source": []
  }
 ],
 "metadata": {
  "kernelspec": {
   "display_name": "chickenmaster",
   "language": "python",
   "name": "python3"
  },
  "language_info": {
   "codemirror_mode": {
    "name": "ipython",
    "version": 3
   },
   "file_extension": ".py",
   "mimetype": "text/x-python",
   "name": "python",
   "nbconvert_exporter": "python",
   "pygments_lexer": "ipython3",
   "version": "3.12.2"
  }
 },
 "nbformat": 4,
 "nbformat_minor": 2
}
